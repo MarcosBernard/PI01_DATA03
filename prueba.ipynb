{
 "cells": [
  {
   "cell_type": "code",
   "execution_count": 58,
   "metadata": {},
   "outputs": [],
   "source": [
    "import pandas as pd"
   ]
  },
  {
   "cell_type": "code",
   "execution_count": 9,
   "metadata": {},
   "outputs": [],
   "source": [
    "def cargar_tablas():\n",
    "    import pandas as pd\n",
    "    dataframe = pd.read_csv(\"Datasets/circuits.csv\",encoding='UTF-8')\n",
    "    dataframe.to_csv(\"Datasets/CSVs/circuits.csv\",encoding='UTF-8',index=False,sep=';')\n",
    "\n",
    "    dataframe = pd.read_json(\"Datasets/constructors.json\",lines=True,encoding='UTF-8')\n",
    "    dataframe.to_csv(\"Datasets/CSVs/constructors.csv\",encoding='UTF-8',index=False)\n",
    "\n",
    "    #https://stackoverflow.com/questions/38231591/split-explode-a-column-of-dictionaries-into-separate-columns-with-pandas\n",
    "    dataframe = pd.read_json(\"Datasets/drivers.json\",lines=True,encoding='UTF-8')\n",
    "    dataframe = pd.concat([dataframe.drop(['name'], axis=1), dataframe['name'].apply(pd.Series)], axis=1)\n",
    "    new_cols = [\"driverId\",\t\"driverRef\"\t,\"number\",\t\"code\",\"forename\",\t\"surname\",\t\"dob\",\t \"nationality\",\t\"url\"]\n",
    "    dataframe = dataframe.reindex(columns=new_cols)\n",
    "    dataframe.to_csv(\"Datasets/CSVs/drivers.csv\",encoding='UTF-8',index=False,sep=';')\n",
    "\n",
    "    dataframe = pd.read_json(\"Datasets/pit_stops.json\",encoding='UTF-8')\n",
    "    dataframe['pit_stopId'] = dataframe.index\n",
    "    dataframe['pit_stopId']+=1\n",
    "    new_cols = [\"pit_stopId\",\t\"raceId\",\t\"driverId\",\t\"stop\",\t\"lap\",\t\"time\"\t,\"duration\",\t\"milliseconds\"]\n",
    "    dataframe = dataframe.reindex(columns=new_cols)\n",
    "    dataframe.to_csv(\"Datasets/CSVs/pit_stops.csv\",encoding='UTF-8',index=False)\n",
    "\n",
    "    dataframe = pd.read_csv(\"Datasets/races.csv\",encoding='UTF-8')\n",
    "    dataframe.to_csv(\"Datasets/CSVs/races.csv\",encoding='UTF-8',index=False)\n",
    "\n",
    "    dataframe = pd.read_json(\"Datasets/results.json\",lines=True,encoding='UTF-8')\n",
    "    dataframe.to_csv(\"Datasets/CSVs/results.csv\",encoding='UTF-8',index=False)\n",
    "\n",
    "    #https://datatofish.com/union-pandas-dataframes/\n",
    "    dataframe1 = pd.read_json(\"Datasets/Qualifying/qualifying_split_1.json\",encoding='UTF-8')\n",
    "    dataframe2 = pd.read_json(\"Datasets/Qualifying/qualifying_split_2.json\",encoding='UTF-8')\n",
    "    dataframe = pd.concat([dataframe1, dataframe2])\n",
    "    dataframe.to_csv(\"Datasets/CSVs/Qualifying.csv\",encoding='UTF-8',index=False)\n",
    "\n",
    "    # https://www.statology.org/pandas-rename-columns/\n",
    "    df1 = pd.read_csv(\"Datasets/lap_times/lap_times_split_1.csv\",encoding='UTF-8',header=None)\n",
    "    df2 = pd.read_csv(\"Datasets/lap_times/lap_times_split_2.csv\",encoding='UTF-8',header=None)\n",
    "    df3 = pd.read_csv(\"Datasets/lap_times/lap_times_split_3.csv\",encoding='UTF-8',header=None)\n",
    "    df4 = pd.read_csv(\"Datasets/lap_times/lap_times_split_4.csv\",encoding='UTF-8',header=None)\n",
    "    df5 = pd.read_csv(\"Datasets/lap_times/lap_times_split_5.csv\",encoding='UTF-8',header=None)\n",
    "    df = pd.concat([df1, df2,df3,df4,df5])\n",
    "    df.rename(columns = {0:'raceId',1:'driverId',2:'lap',3:'position',4:'time',5:'miliseconds'}, inplace = True)\n",
    "    df.to_csv(\"Datasets/CSVs/LapTimes.csv\",encoding='UTF-8',index=False)"
   ]
  },
  {
   "cell_type": "code",
   "execution_count": 47,
   "metadata": {},
   "outputs": [
    {
     "data": {
      "text/html": [
       "<div>\n",
       "<style scoped>\n",
       "    .dataframe tbody tr th:only-of-type {\n",
       "        vertical-align: middle;\n",
       "    }\n",
       "\n",
       "    .dataframe tbody tr th {\n",
       "        vertical-align: top;\n",
       "    }\n",
       "\n",
       "    .dataframe thead th {\n",
       "        text-align: right;\n",
       "    }\n",
       "</style>\n",
       "<table border=\"1\" class=\"dataframe\">\n",
       "  <thead>\n",
       "    <tr style=\"text-align: right;\">\n",
       "      <th></th>\n",
       "      <th>driverId</th>\n",
       "      <th>driverRef</th>\n",
       "      <th>number</th>\n",
       "      <th>code</th>\n",
       "      <th>name</th>\n",
       "      <th>dob</th>\n",
       "      <th>nationality</th>\n",
       "      <th>url</th>\n",
       "    </tr>\n",
       "  </thead>\n",
       "  <tbody>\n",
       "    <tr>\n",
       "      <th>0</th>\n",
       "      <td>1</td>\n",
       "      <td>hamilton</td>\n",
       "      <td>44</td>\n",
       "      <td>HAM</td>\n",
       "      <td>{'forename': 'Lewis', 'surname': 'Hamilton'}</td>\n",
       "      <td>1985-01-07</td>\n",
       "      <td>British</td>\n",
       "      <td>http://en.wikipedia.org/wiki/Lewis_Hamilton</td>\n",
       "    </tr>\n",
       "    <tr>\n",
       "      <th>1</th>\n",
       "      <td>2</td>\n",
       "      <td>heidfeld</td>\n",
       "      <td>\\N</td>\n",
       "      <td>HEI</td>\n",
       "      <td>{'forename': 'Nick', 'surname': 'Heidfeld'}</td>\n",
       "      <td>1977-05-10</td>\n",
       "      <td>German</td>\n",
       "      <td>http://en.wikipedia.org/wiki/Nick_Heidfeld</td>\n",
       "    </tr>\n",
       "    <tr>\n",
       "      <th>2</th>\n",
       "      <td>3</td>\n",
       "      <td>rosberg</td>\n",
       "      <td>6</td>\n",
       "      <td>ROS</td>\n",
       "      <td>{'forename': 'Nico', 'surname': 'Rosberg'}</td>\n",
       "      <td>1985-06-27</td>\n",
       "      <td>German</td>\n",
       "      <td>http://en.wikipedia.org/wiki/Nico_Rosberg</td>\n",
       "    </tr>\n",
       "    <tr>\n",
       "      <th>3</th>\n",
       "      <td>4</td>\n",
       "      <td>alonso</td>\n",
       "      <td>14</td>\n",
       "      <td>ALO</td>\n",
       "      <td>{'forename': 'Fernando', 'surname': 'Alonso'}</td>\n",
       "      <td>1981-07-29</td>\n",
       "      <td>Spanish</td>\n",
       "      <td>http://en.wikipedia.org/wiki/Fernando_Alonso</td>\n",
       "    </tr>\n",
       "    <tr>\n",
       "      <th>4</th>\n",
       "      <td>5</td>\n",
       "      <td>kovalainen</td>\n",
       "      <td>\\N</td>\n",
       "      <td>KOV</td>\n",
       "      <td>{'forename': 'Heikki', 'surname': 'Kovalainen'}</td>\n",
       "      <td>1981-10-19</td>\n",
       "      <td>Finnish</td>\n",
       "      <td>http://en.wikipedia.org/wiki/Heikki_Kovalainen</td>\n",
       "    </tr>\n",
       "  </tbody>\n",
       "</table>\n",
       "</div>"
      ],
      "text/plain": [
       "   driverId   driverRef number code  \\\n",
       "0         1    hamilton     44  HAM   \n",
       "1         2    heidfeld     \\N  HEI   \n",
       "2         3     rosberg      6  ROS   \n",
       "3         4      alonso     14  ALO   \n",
       "4         5  kovalainen     \\N  KOV   \n",
       "\n",
       "                                              name         dob nationality  \\\n",
       "0     {'forename': 'Lewis', 'surname': 'Hamilton'}  1985-01-07     British   \n",
       "1      {'forename': 'Nick', 'surname': 'Heidfeld'}  1977-05-10      German   \n",
       "2       {'forename': 'Nico', 'surname': 'Rosberg'}  1985-06-27      German   \n",
       "3    {'forename': 'Fernando', 'surname': 'Alonso'}  1981-07-29     Spanish   \n",
       "4  {'forename': 'Heikki', 'surname': 'Kovalainen'}  1981-10-19     Finnish   \n",
       "\n",
       "                                              url  \n",
       "0     http://en.wikipedia.org/wiki/Lewis_Hamilton  \n",
       "1      http://en.wikipedia.org/wiki/Nick_Heidfeld  \n",
       "2       http://en.wikipedia.org/wiki/Nico_Rosberg  \n",
       "3    http://en.wikipedia.org/wiki/Fernando_Alonso  \n",
       "4  http://en.wikipedia.org/wiki/Heikki_Kovalainen  "
      ]
     },
     "execution_count": 47,
     "metadata": {},
     "output_type": "execute_result"
    }
   ],
   "source": [
    "import pandas as pd\n",
    "dataframe = pd.read_json(\"Datasets/drivers.json\",lines=True,encoding='UTF-8')\n",
    "dataframe.head()"
   ]
  },
  {
   "cell_type": "code",
   "execution_count": 48,
   "metadata": {},
   "outputs": [
    {
     "data": {
      "text/plain": [
       "(853, 8)"
      ]
     },
     "execution_count": 48,
     "metadata": {},
     "output_type": "execute_result"
    }
   ],
   "source": [
    "dataframe.shape"
   ]
  },
  {
   "cell_type": "code",
   "execution_count": 10,
   "metadata": {},
   "outputs": [],
   "source": [
    "cargar_tablas()"
   ]
  },
  {
   "cell_type": "code",
   "execution_count": 42,
   "metadata": {},
   "outputs": [],
   "source": [
    "def crear_CSVs():\n",
    "    import pandas as pd\n",
    "    dataframe = pd.read_csv(\"Datasets/circuits.csv\",encoding='UTF-8')\n",
    "    dataframe.to_csv(\"Datasets/CSVs/circuits.csv\",encoding='UTF-8',index=False,sep=';')\n",
    "\n",
    "    dataframe = pd.read_json(\"Datasets/constructors.json\",lines=True,encoding='UTF-8')\n",
    "    dataframe.to_csv(\"Datasets/CSVs/constructors.csv\",encoding='UTF-8',index=False)\n",
    "\n",
    "    #https://stackoverflow.com/questions/38231591/split-explode-a-column-of-dictionaries-into-separate-columns-with-pandas\n",
    "    #https://pandas.pydata.org/docs/reference/api/pandas.DataFrame.reindex.html\n",
    "    dataframe = pd.read_json(\"Datasets/drivers.json\",lines=True,encoding='UTF-8')\n",
    "    dataframe = pd.concat([dataframe.drop(['name'], axis=1), dataframe['name'].apply(pd.Series)], axis=1)\n",
    "    new_cols = [\"driverId\",\t\"driverRef\"\t,\"number\",\t\"code\",\"forename\",\t\"surname\",\t\"dob\",\t \"nationality\",\t\"url\"]\n",
    "    dataframe = dataframe.reindex(columns=new_cols)\n",
    "    dataframe.to_csv(\"Datasets/CSVs/drivers.csv\",encoding='UTF-8',index=False,sep=';')\n",
    "\n",
    "    dataframe = pd.read_json(\"Datasets/pit_stops.json\",encoding='UTF-8')\n",
    "    dataframe['pit_stopId'] = dataframe.index\n",
    "    dataframe['pit_stopId']+=1\n",
    "    new_cols = [\"pit_stopId\",\t\"raceId\",\t\"driverId\",\t\"stop\",\t\"lap\",\t\"time\"\t,\"duration\",\t\"milliseconds\"]\n",
    "    dataframe = dataframe.reindex(columns=new_cols)\n",
    "    dataframe.to_csv(\"Datasets/CSVs/pit_stops.csv\",encoding='UTF-8',index=False)\n",
    "\n",
    "    dataframe = pd.read_csv(\"Datasets/races.csv\",encoding='UTF-8')\n",
    "    dataframe.to_csv(\"Datasets/CSVs/races.csv\",encoding='UTF-8',index=False)\n",
    "\n",
    "    dataframe = pd.read_json(\"Datasets/results.json\",lines=True,encoding='UTF-8')\n",
    "    dataframe.to_csv(\"Datasets/CSVs/results.csv\",encoding='UTF-8',index=False)\n",
    "\n",
    "    #https://datatofish.com/union-pandas-dataframes/\n",
    "    dataframe1 = pd.read_json(\"Datasets/Qualifying/qualifying_split_1.json\",encoding='UTF-8')\n",
    "    dataframe2 = pd.read_json(\"Datasets/Qualifying/qualifying_split_2.json\",encoding='UTF-8')\n",
    "    dataframe = pd.concat([dataframe1, dataframe2])\n",
    "    dataframe.to_csv(\"Datasets/CSVs/Qualifying.csv\",encoding='UTF-8',index=False)\n",
    "\n",
    "    # https://www.statology.org/pandas-rename-columns/\n",
    "    # https://pandas.pydata.org/docs/reference/api/pandas.DataFrame.reset_index.html\n",
    "    df1 = pd.read_csv(\"Datasets/lap_times/lap_times_split_1.csv\",encoding='UTF-8',header=None)\n",
    "    df2 = pd.read_csv(\"Datasets/lap_times/lap_times_split_2.csv\",encoding='UTF-8',header=None)\n",
    "    df3 = pd.read_csv(\"Datasets/lap_times/lap_times_split_3.csv\",encoding='UTF-8',header=None)\n",
    "    df4 = pd.read_csv(\"Datasets/lap_times/lap_times_split_4.csv\",encoding='UTF-8',header=None)\n",
    "    df5 = pd.read_csv(\"Datasets/lap_times/lap_times_split_5.csv\",encoding='UTF-8',header=None)\n",
    "    df = pd.concat([df1, df2,df3,df4,df5])\n",
    "    df.reset_index(inplace=True)\n",
    "    df.rename(columns = {0:'raceId',1:'driverId',2:'lap',3:'position',4:'time',5:'miliseconds'}, inplace = True)\n",
    "    df['lap_timeId'] = df.index+1 # Clave subrogada\n",
    "    new_cols = [\"lap_timeId\", \"raceId\",\t\"driverId\"\t,\"lap\",\t\"position\",\t\"time\",\t\"miliseconds\"]\n",
    "    df = df.reindex(columns=new_cols)\n",
    "    df.to_csv(\"Datasets/CSVs/LapTimes.csv\",encoding='UTF-8',index=False)"
   ]
  },
  {
   "cell_type": "code",
   "execution_count": 43,
   "metadata": {},
   "outputs": [],
   "source": [
    "crear_CSVs()"
   ]
  },
  {
   "cell_type": "code",
   "execution_count": 24,
   "metadata": {},
   "outputs": [
    {
     "data": {
      "text/html": [
       "<div>\n",
       "<style scoped>\n",
       "    .dataframe tbody tr th:only-of-type {\n",
       "        vertical-align: middle;\n",
       "    }\n",
       "\n",
       "    .dataframe tbody tr th {\n",
       "        vertical-align: top;\n",
       "    }\n",
       "\n",
       "    .dataframe thead th {\n",
       "        text-align: right;\n",
       "    }\n",
       "</style>\n",
       "<table border=\"1\" class=\"dataframe\">\n",
       "  <thead>\n",
       "    <tr style=\"text-align: right;\">\n",
       "      <th></th>\n",
       "      <th>lap_timeId</th>\n",
       "      <th>raceId</th>\n",
       "      <th>driverId</th>\n",
       "      <th>lap</th>\n",
       "      <th>position</th>\n",
       "      <th>time</th>\n",
       "      <th>miliseconds</th>\n",
       "    </tr>\n",
       "  </thead>\n",
       "  <tbody>\n",
       "    <tr>\n",
       "      <th>0</th>\n",
       "      <td>98109</td>\n",
       "      <td>841</td>\n",
       "      <td>20</td>\n",
       "      <td>1</td>\n",
       "      <td>1</td>\n",
       "      <td>1:38.109</td>\n",
       "      <td>98109</td>\n",
       "    </tr>\n",
       "    <tr>\n",
       "      <th>1</th>\n",
       "      <td>93007</td>\n",
       "      <td>841</td>\n",
       "      <td>20</td>\n",
       "      <td>2</td>\n",
       "      <td>1</td>\n",
       "      <td>1:33.006</td>\n",
       "      <td>93006</td>\n",
       "    </tr>\n",
       "    <tr>\n",
       "      <th>2</th>\n",
       "      <td>92715</td>\n",
       "      <td>841</td>\n",
       "      <td>20</td>\n",
       "      <td>3</td>\n",
       "      <td>1</td>\n",
       "      <td>1:32.713</td>\n",
       "      <td>92713</td>\n",
       "    </tr>\n",
       "    <tr>\n",
       "      <th>3</th>\n",
       "      <td>92806</td>\n",
       "      <td>841</td>\n",
       "      <td>20</td>\n",
       "      <td>4</td>\n",
       "      <td>1</td>\n",
       "      <td>1:32.803</td>\n",
       "      <td>92803</td>\n",
       "    </tr>\n",
       "    <tr>\n",
       "      <th>4</th>\n",
       "      <td>92346</td>\n",
       "      <td>841</td>\n",
       "      <td>20</td>\n",
       "      <td>5</td>\n",
       "      <td>1</td>\n",
       "      <td>1:32.342</td>\n",
       "      <td>92342</td>\n",
       "    </tr>\n",
       "  </tbody>\n",
       "</table>\n",
       "</div>"
      ],
      "text/plain": [
       "   lap_timeId  raceId  driverId  lap  position      time  miliseconds\n",
       "0       98109     841        20    1         1  1:38.109        98109\n",
       "1       93007     841        20    2         1  1:33.006        93006\n",
       "2       92715     841        20    3         1  1:32.713        92713\n",
       "3       92806     841        20    4         1  1:32.803        92803\n",
       "4       92346     841        20    5         1  1:32.342        92342"
      ]
     },
     "execution_count": 24,
     "metadata": {},
     "output_type": "execute_result"
    }
   ],
   "source": [
    "df.head()"
   ]
  },
  {
   "cell_type": "code",
   "execution_count": 33,
   "metadata": {},
   "outputs": [
    {
     "data": {
      "text/html": [
       "<div>\n",
       "<style scoped>\n",
       "    .dataframe tbody tr th:only-of-type {\n",
       "        vertical-align: middle;\n",
       "    }\n",
       "\n",
       "    .dataframe tbody tr th {\n",
       "        vertical-align: top;\n",
       "    }\n",
       "\n",
       "    .dataframe thead th {\n",
       "        text-align: right;\n",
       "    }\n",
       "</style>\n",
       "<table border=\"1\" class=\"dataframe\">\n",
       "  <thead>\n",
       "    <tr style=\"text-align: right;\">\n",
       "      <th></th>\n",
       "      <th>lap_timeId</th>\n",
       "      <th>raceId</th>\n",
       "      <th>driverId</th>\n",
       "      <th>lap</th>\n",
       "      <th>position</th>\n",
       "      <th>time</th>\n",
       "      <th>miliseconds</th>\n",
       "    </tr>\n",
       "  </thead>\n",
       "  <tbody>\n",
       "    <tr>\n",
       "      <th>0</th>\n",
       "      <td>0</td>\n",
       "      <td>841</td>\n",
       "      <td>20</td>\n",
       "      <td>1</td>\n",
       "      <td>1</td>\n",
       "      <td>1:38.109</td>\n",
       "      <td>98109</td>\n",
       "    </tr>\n",
       "    <tr>\n",
       "      <th>1</th>\n",
       "      <td>1</td>\n",
       "      <td>841</td>\n",
       "      <td>20</td>\n",
       "      <td>2</td>\n",
       "      <td>1</td>\n",
       "      <td>1:33.006</td>\n",
       "      <td>93006</td>\n",
       "    </tr>\n",
       "    <tr>\n",
       "      <th>2</th>\n",
       "      <td>2</td>\n",
       "      <td>841</td>\n",
       "      <td>20</td>\n",
       "      <td>3</td>\n",
       "      <td>1</td>\n",
       "      <td>1:32.713</td>\n",
       "      <td>92713</td>\n",
       "    </tr>\n",
       "    <tr>\n",
       "      <th>3</th>\n",
       "      <td>3</td>\n",
       "      <td>841</td>\n",
       "      <td>20</td>\n",
       "      <td>4</td>\n",
       "      <td>1</td>\n",
       "      <td>1:32.803</td>\n",
       "      <td>92803</td>\n",
       "    </tr>\n",
       "    <tr>\n",
       "      <th>4</th>\n",
       "      <td>4</td>\n",
       "      <td>841</td>\n",
       "      <td>20</td>\n",
       "      <td>5</td>\n",
       "      <td>1</td>\n",
       "      <td>1:32.342</td>\n",
       "      <td>92342</td>\n",
       "    </tr>\n",
       "  </tbody>\n",
       "</table>\n",
       "</div>"
      ],
      "text/plain": [
       "   lap_timeId  raceId  driverId  lap  position      time  miliseconds\n",
       "0           0     841        20    1         1  1:38.109        98109\n",
       "1           1     841        20    2         1  1:33.006        93006\n",
       "2           2     841        20    3         1  1:32.713        92713\n",
       "3           3     841        20    4         1  1:32.803        92803\n",
       "4           4     841        20    5         1  1:32.342        92342"
      ]
     },
     "execution_count": 33,
     "metadata": {},
     "output_type": "execute_result"
    }
   ],
   "source": [
    "#https://pandas.pydata.org/docs/reference/api/pandas.DataFrame.reindex.html\n",
    "df1 = pd.read_csv(\"Datasets/lap_times/lap_times_split_1.csv\",encoding='UTF-8',header=None)\n",
    "df2 = pd.read_csv(\"Datasets/lap_times/lap_times_split_2.csv\",encoding='UTF-8',header=None)\n",
    "df3 = pd.read_csv(\"Datasets/lap_times/lap_times_split_3.csv\",encoding='UTF-8',header=None)\n",
    "df4 = pd.read_csv(\"Datasets/lap_times/lap_times_split_4.csv\",encoding='UTF-8',header=None)\n",
    "df5 = pd.read_csv(\"Datasets/lap_times/lap_times_split_5.csv\",encoding='UTF-8',header=None)\n",
    "df = pd.concat([df1, df2,df3,df4,df5])\n",
    "df.reindex()\n",
    "df.rename(columns = {0:'raceId',1:'driverId',2:'lap',3:'position',4:'time',5:'miliseconds'}, inplace = True)\n",
    "df['lap_timeId'] = df.index\n",
    "new_cols = [\"lap_timeId\", \"raceId\",\t\"driverId\"\t,\"lap\",\t\"position\",\t\"time\",\t\"miliseconds\"]\n",
    "df = df.reindex(columns=new_cols)\n",
    "df.head()"
   ]
  },
  {
   "cell_type": "code",
   "execution_count": 13,
   "metadata": {},
   "outputs": [
    {
     "data": {
      "text/html": [
       "<div>\n",
       "<style scoped>\n",
       "    .dataframe tbody tr th:only-of-type {\n",
       "        vertical-align: middle;\n",
       "    }\n",
       "\n",
       "    .dataframe tbody tr th {\n",
       "        vertical-align: top;\n",
       "    }\n",
       "\n",
       "    .dataframe thead th {\n",
       "        text-align: right;\n",
       "    }\n",
       "</style>\n",
       "<table border=\"1\" class=\"dataframe\">\n",
       "  <thead>\n",
       "    <tr style=\"text-align: right;\">\n",
       "      <th></th>\n",
       "      <th>raceId</th>\n",
       "      <th>driverId</th>\n",
       "      <th>lap</th>\n",
       "      <th>position</th>\n",
       "      <th>time</th>\n",
       "      <th>miliseconds</th>\n",
       "      <th>lap_timeId</th>\n",
       "    </tr>\n",
       "  </thead>\n",
       "  <tbody>\n",
       "    <tr>\n",
       "      <th>0</th>\n",
       "      <td>841</td>\n",
       "      <td>20</td>\n",
       "      <td>1</td>\n",
       "      <td>1</td>\n",
       "      <td>1:38.109</td>\n",
       "      <td>98109</td>\n",
       "      <td>1</td>\n",
       "    </tr>\n",
       "    <tr>\n",
       "      <th>1</th>\n",
       "      <td>841</td>\n",
       "      <td>20</td>\n",
       "      <td>2</td>\n",
       "      <td>1</td>\n",
       "      <td>1:33.006</td>\n",
       "      <td>93006</td>\n",
       "      <td>2</td>\n",
       "    </tr>\n",
       "    <tr>\n",
       "      <th>2</th>\n",
       "      <td>841</td>\n",
       "      <td>20</td>\n",
       "      <td>3</td>\n",
       "      <td>1</td>\n",
       "      <td>1:32.713</td>\n",
       "      <td>92713</td>\n",
       "      <td>3</td>\n",
       "    </tr>\n",
       "    <tr>\n",
       "      <th>3</th>\n",
       "      <td>841</td>\n",
       "      <td>20</td>\n",
       "      <td>4</td>\n",
       "      <td>1</td>\n",
       "      <td>1:32.803</td>\n",
       "      <td>92803</td>\n",
       "      <td>4</td>\n",
       "    </tr>\n",
       "    <tr>\n",
       "      <th>4</th>\n",
       "      <td>841</td>\n",
       "      <td>20</td>\n",
       "      <td>5</td>\n",
       "      <td>1</td>\n",
       "      <td>1:32.342</td>\n",
       "      <td>92342</td>\n",
       "      <td>5</td>\n",
       "    </tr>\n",
       "  </tbody>\n",
       "</table>\n",
       "</div>"
      ],
      "text/plain": [
       "   raceId  driverId  lap  position      time  miliseconds  lap_timeId\n",
       "0     841        20    1         1  1:38.109        98109           1\n",
       "1     841        20    2         1  1:33.006        93006           2\n",
       "2     841        20    3         1  1:32.713        92713           3\n",
       "3     841        20    4         1  1:32.803        92803           4\n",
       "4     841        20    5         1  1:32.342        92342           5"
      ]
     },
     "execution_count": 13,
     "metadata": {},
     "output_type": "execute_result"
    }
   ],
   "source": [
    "\n",
    "df.head()"
   ]
  },
  {
   "cell_type": "code",
   "execution_count": 39,
   "metadata": {},
   "outputs": [
    {
     "data": {
      "text/html": [
       "<div>\n",
       "<style scoped>\n",
       "    .dataframe tbody tr th:only-of-type {\n",
       "        vertical-align: middle;\n",
       "    }\n",
       "\n",
       "    .dataframe tbody tr th {\n",
       "        vertical-align: top;\n",
       "    }\n",
       "\n",
       "    .dataframe thead th {\n",
       "        text-align: right;\n",
       "    }\n",
       "</style>\n",
       "<table border=\"1\" class=\"dataframe\">\n",
       "  <thead>\n",
       "    <tr style=\"text-align: right;\">\n",
       "      <th></th>\n",
       "      <th>0</th>\n",
       "      <th>1</th>\n",
       "      <th>2</th>\n",
       "    </tr>\n",
       "  </thead>\n",
       "  <tbody>\n",
       "    <tr>\n",
       "      <th>0</th>\n",
       "      <td>holiii</td>\n",
       "      <td>mundo</td>\n",
       "      <td>jaaa</td>\n",
       "    </tr>\n",
       "    <tr>\n",
       "      <th>1</th>\n",
       "      <td>holiii</td>\n",
       "      <td>mundo</td>\n",
       "      <td>jaaa</td>\n",
       "    </tr>\n",
       "    <tr>\n",
       "      <th>2</th>\n",
       "      <td>holiii</td>\n",
       "      <td>mundo</td>\n",
       "      <td>jaaa</td>\n",
       "    </tr>\n",
       "    <tr>\n",
       "      <th>0</th>\n",
       "      <td>holiii</td>\n",
       "      <td>mundo</td>\n",
       "      <td>jaaa</td>\n",
       "    </tr>\n",
       "  </tbody>\n",
       "</table>\n",
       "</div>"
      ],
      "text/plain": [
       "        0      1     2\n",
       "0  holiii  mundo  jaaa\n",
       "1  holiii  mundo  jaaa\n",
       "2  holiii  mundo  jaaa\n",
       "0  holiii  mundo  jaaa"
      ]
     },
     "execution_count": 39,
     "metadata": {},
     "output_type": "execute_result"
    }
   ],
   "source": [
    "diction = {0: 'hola',1:'mundo',2:'jaaa',0:'holiii'}\n",
    "df2 = pd.DataFrame(diction,index=[0,1,2,0])\n",
    "df2"
   ]
  },
  {
   "cell_type": "code",
   "execution_count": 38,
   "metadata": {},
   "outputs": [
    {
     "data": {
      "text/html": [
       "<div>\n",
       "<style scoped>\n",
       "    .dataframe tbody tr th:only-of-type {\n",
       "        vertical-align: middle;\n",
       "    }\n",
       "\n",
       "    .dataframe tbody tr th {\n",
       "        vertical-align: top;\n",
       "    }\n",
       "\n",
       "    .dataframe thead th {\n",
       "        text-align: right;\n",
       "    }\n",
       "</style>\n",
       "<table border=\"1\" class=\"dataframe\">\n",
       "  <thead>\n",
       "    <tr style=\"text-align: right;\">\n",
       "      <th></th>\n",
       "      <th>index</th>\n",
       "      <th>0</th>\n",
       "      <th>1</th>\n",
       "      <th>2</th>\n",
       "    </tr>\n",
       "  </thead>\n",
       "  <tbody>\n",
       "    <tr>\n",
       "      <th>0</th>\n",
       "      <td>0</td>\n",
       "      <td>holiii</td>\n",
       "      <td>mundo</td>\n",
       "      <td>jaaa</td>\n",
       "    </tr>\n",
       "    <tr>\n",
       "      <th>1</th>\n",
       "      <td>1</td>\n",
       "      <td>holiii</td>\n",
       "      <td>mundo</td>\n",
       "      <td>jaaa</td>\n",
       "    </tr>\n",
       "    <tr>\n",
       "      <th>2</th>\n",
       "      <td>2</td>\n",
       "      <td>holiii</td>\n",
       "      <td>mundo</td>\n",
       "      <td>jaaa</td>\n",
       "    </tr>\n",
       "    <tr>\n",
       "      <th>3</th>\n",
       "      <td>0</td>\n",
       "      <td>holiii</td>\n",
       "      <td>mundo</td>\n",
       "      <td>jaaa</td>\n",
       "    </tr>\n",
       "  </tbody>\n",
       "</table>\n",
       "</div>"
      ],
      "text/plain": [
       "   index       0      1     2\n",
       "0      0  holiii  mundo  jaaa\n",
       "1      1  holiii  mundo  jaaa\n",
       "2      2  holiii  mundo  jaaa\n",
       "3      0  holiii  mundo  jaaa"
      ]
     },
     "execution_count": 38,
     "metadata": {},
     "output_type": "execute_result"
    }
   ],
   "source": [
    "df2.reset_index(inplace=True)\n",
    "df2"
   ]
  },
  {
   "cell_type": "code",
   "execution_count": 14,
   "metadata": {},
   "outputs": [],
   "source": []
  },
  {
   "cell_type": "code",
   "execution_count": 15,
   "metadata": {},
   "outputs": [
    {
     "data": {
      "text/html": [
       "<div>\n",
       "<style scoped>\n",
       "    .dataframe tbody tr th:only-of-type {\n",
       "        vertical-align: middle;\n",
       "    }\n",
       "\n",
       "    .dataframe tbody tr th {\n",
       "        vertical-align: top;\n",
       "    }\n",
       "\n",
       "    .dataframe thead th {\n",
       "        text-align: right;\n",
       "    }\n",
       "</style>\n",
       "<table border=\"1\" class=\"dataframe\">\n",
       "  <thead>\n",
       "    <tr style=\"text-align: right;\">\n",
       "      <th></th>\n",
       "      <th>lap_timeId</th>\n",
       "      <th>raceId</th>\n",
       "      <th>driverId</th>\n",
       "      <th>lap</th>\n",
       "      <th>position</th>\n",
       "      <th>time</th>\n",
       "      <th>miliseconds</th>\n",
       "    </tr>\n",
       "  </thead>\n",
       "  <tbody>\n",
       "    <tr>\n",
       "      <th>0</th>\n",
       "      <td>1</td>\n",
       "      <td>841</td>\n",
       "      <td>20</td>\n",
       "      <td>1</td>\n",
       "      <td>1</td>\n",
       "      <td>1:38.109</td>\n",
       "      <td>98109</td>\n",
       "    </tr>\n",
       "    <tr>\n",
       "      <th>1</th>\n",
       "      <td>2</td>\n",
       "      <td>841</td>\n",
       "      <td>20</td>\n",
       "      <td>2</td>\n",
       "      <td>1</td>\n",
       "      <td>1:33.006</td>\n",
       "      <td>93006</td>\n",
       "    </tr>\n",
       "    <tr>\n",
       "      <th>2</th>\n",
       "      <td>3</td>\n",
       "      <td>841</td>\n",
       "      <td>20</td>\n",
       "      <td>3</td>\n",
       "      <td>1</td>\n",
       "      <td>1:32.713</td>\n",
       "      <td>92713</td>\n",
       "    </tr>\n",
       "    <tr>\n",
       "      <th>3</th>\n",
       "      <td>4</td>\n",
       "      <td>841</td>\n",
       "      <td>20</td>\n",
       "      <td>4</td>\n",
       "      <td>1</td>\n",
       "      <td>1:32.803</td>\n",
       "      <td>92803</td>\n",
       "    </tr>\n",
       "    <tr>\n",
       "      <th>4</th>\n",
       "      <td>5</td>\n",
       "      <td>841</td>\n",
       "      <td>20</td>\n",
       "      <td>5</td>\n",
       "      <td>1</td>\n",
       "      <td>1:32.342</td>\n",
       "      <td>92342</td>\n",
       "    </tr>\n",
       "  </tbody>\n",
       "</table>\n",
       "</div>"
      ],
      "text/plain": [
       "   lap_timeId  raceId  driverId  lap  position      time  miliseconds\n",
       "0           1     841        20    1         1  1:38.109        98109\n",
       "1           2     841        20    2         1  1:33.006        93006\n",
       "2           3     841        20    3         1  1:32.713        92713\n",
       "3           4     841        20    4         1  1:32.803        92803\n",
       "4           5     841        20    5         1  1:32.342        92342"
      ]
     },
     "execution_count": 15,
     "metadata": {},
     "output_type": "execute_result"
    }
   ],
   "source": [
    "\n",
    "df.head()"
   ]
  },
  {
   "cell_type": "code",
   "execution_count": 8,
   "metadata": {},
   "outputs": [
    {
     "data": {
      "text/html": [
       "<div>\n",
       "<style scoped>\n",
       "    .dataframe tbody tr th:only-of-type {\n",
       "        vertical-align: middle;\n",
       "    }\n",
       "\n",
       "    .dataframe tbody tr th {\n",
       "        vertical-align: top;\n",
       "    }\n",
       "\n",
       "    .dataframe thead th {\n",
       "        text-align: right;\n",
       "    }\n",
       "</style>\n",
       "<table border=\"1\" class=\"dataframe\">\n",
       "  <thead>\n",
       "    <tr style=\"text-align: right;\">\n",
       "      <th></th>\n",
       "      <th>pit_stopId</th>\n",
       "      <th>raceId</th>\n",
       "      <th>driverId</th>\n",
       "      <th>stop</th>\n",
       "      <th>lap</th>\n",
       "      <th>time</th>\n",
       "      <th>duration</th>\n",
       "      <th>milliseconds</th>\n",
       "    </tr>\n",
       "  </thead>\n",
       "  <tbody>\n",
       "    <tr>\n",
       "      <th>0</th>\n",
       "      <td>1</td>\n",
       "      <td>841</td>\n",
       "      <td>153</td>\n",
       "      <td>1</td>\n",
       "      <td>1</td>\n",
       "      <td>17:05:23</td>\n",
       "      <td>26.898</td>\n",
       "      <td>26898</td>\n",
       "    </tr>\n",
       "    <tr>\n",
       "      <th>1</th>\n",
       "      <td>2</td>\n",
       "      <td>841</td>\n",
       "      <td>30</td>\n",
       "      <td>1</td>\n",
       "      <td>1</td>\n",
       "      <td>17:05:52</td>\n",
       "      <td>25.021</td>\n",
       "      <td>25021</td>\n",
       "    </tr>\n",
       "    <tr>\n",
       "      <th>2</th>\n",
       "      <td>3</td>\n",
       "      <td>841</td>\n",
       "      <td>17</td>\n",
       "      <td>1</td>\n",
       "      <td>11</td>\n",
       "      <td>17:20:48</td>\n",
       "      <td>23.426</td>\n",
       "      <td>23426</td>\n",
       "    </tr>\n",
       "    <tr>\n",
       "      <th>3</th>\n",
       "      <td>4</td>\n",
       "      <td>841</td>\n",
       "      <td>4</td>\n",
       "      <td>1</td>\n",
       "      <td>12</td>\n",
       "      <td>17:22:34</td>\n",
       "      <td>23.251</td>\n",
       "      <td>23251</td>\n",
       "    </tr>\n",
       "    <tr>\n",
       "      <th>4</th>\n",
       "      <td>5</td>\n",
       "      <td>841</td>\n",
       "      <td>13</td>\n",
       "      <td>1</td>\n",
       "      <td>13</td>\n",
       "      <td>17:24:10</td>\n",
       "      <td>23.842</td>\n",
       "      <td>23842</td>\n",
       "    </tr>\n",
       "  </tbody>\n",
       "</table>\n",
       "</div>"
      ],
      "text/plain": [
       "   pit_stopId  raceId  driverId  stop  lap      time duration  milliseconds\n",
       "0           1     841       153     1    1  17:05:23   26.898         26898\n",
       "1           2     841        30     1    1  17:05:52   25.021         25021\n",
       "2           3     841        17     1   11  17:20:48   23.426         23426\n",
       "3           4     841         4     1   12  17:22:34   23.251         23251\n",
       "4           5     841        13     1   13  17:24:10   23.842         23842"
      ]
     },
     "execution_count": 8,
     "metadata": {},
     "output_type": "execute_result"
    }
   ],
   "source": [
    "import pandas as pd\n",
    "dataframe = pd.read_json(\"Datasets/pit_stops.json\",encoding='UTF-8')\n",
    "dataframe['pit_stopId'] = dataframe.index\n",
    "dataframe['pit_stopId']+=1\n",
    "new_cols = [\"pit_stopId\",\t\"raceId\",\t\"driverId\",\t\"stop\",\t\"lap\",\t\"time\"\t,\"duration\",\t\"milliseconds\"]\n",
    "dataframe = dataframe.reindex(columns=new_cols)\n",
    "dataframe.head()"
   ]
  },
  {
   "cell_type": "code",
   "execution_count": null,
   "metadata": {},
   "outputs": [],
   "source": [
    "import pandas as pd\n",
    "dataframe = pd.read_json(\"Datasets/pit_stops.json\",encoding='UTF-8')\n",
    "dataframe['pit_stopId'] = dataframe.index\n",
    "dataframe['pit_stopId']+=1\n",
    "new_cols = [\"pit_stopId\",\t\"raceId\",\t\"driverId\",\t\"stop\",\t\"lap\",\t\"time\"\t,\"duration\",\t\"milliseconds\"]\n",
    "dataframe = dataframe.reindex(columns=new_cols)\n",
    "dataframe.head()"
   ]
  },
  {
   "cell_type": "code",
   "execution_count": 2,
   "metadata": {},
   "outputs": [
    {
     "data": {
      "text/html": [
       "<div>\n",
       "<style scoped>\n",
       "    .dataframe tbody tr th:only-of-type {\n",
       "        vertical-align: middle;\n",
       "    }\n",
       "\n",
       "    .dataframe tbody tr th {\n",
       "        vertical-align: top;\n",
       "    }\n",
       "\n",
       "    .dataframe thead th {\n",
       "        text-align: right;\n",
       "    }\n",
       "</style>\n",
       "<table border=\"1\" class=\"dataframe\">\n",
       "  <thead>\n",
       "    <tr style=\"text-align: right;\">\n",
       "      <th></th>\n",
       "      <th>raceId</th>\n",
       "      <th>driverId</th>\n",
       "      <th>stop</th>\n",
       "      <th>lap</th>\n",
       "      <th>time</th>\n",
       "      <th>duration</th>\n",
       "      <th>milliseconds</th>\n",
       "    </tr>\n",
       "  </thead>\n",
       "  <tbody>\n",
       "    <tr>\n",
       "      <th>0</th>\n",
       "      <td>841</td>\n",
       "      <td>153</td>\n",
       "      <td>1</td>\n",
       "      <td>1</td>\n",
       "      <td>17:05:23</td>\n",
       "      <td>26.898</td>\n",
       "      <td>26898</td>\n",
       "    </tr>\n",
       "    <tr>\n",
       "      <th>1</th>\n",
       "      <td>841</td>\n",
       "      <td>30</td>\n",
       "      <td>1</td>\n",
       "      <td>1</td>\n",
       "      <td>17:05:52</td>\n",
       "      <td>25.021</td>\n",
       "      <td>25021</td>\n",
       "    </tr>\n",
       "    <tr>\n",
       "      <th>2</th>\n",
       "      <td>841</td>\n",
       "      <td>17</td>\n",
       "      <td>1</td>\n",
       "      <td>11</td>\n",
       "      <td>17:20:48</td>\n",
       "      <td>23.426</td>\n",
       "      <td>23426</td>\n",
       "    </tr>\n",
       "    <tr>\n",
       "      <th>3</th>\n",
       "      <td>841</td>\n",
       "      <td>4</td>\n",
       "      <td>1</td>\n",
       "      <td>12</td>\n",
       "      <td>17:22:34</td>\n",
       "      <td>23.251</td>\n",
       "      <td>23251</td>\n",
       "    </tr>\n",
       "    <tr>\n",
       "      <th>4</th>\n",
       "      <td>841</td>\n",
       "      <td>13</td>\n",
       "      <td>1</td>\n",
       "      <td>13</td>\n",
       "      <td>17:24:10</td>\n",
       "      <td>23.842</td>\n",
       "      <td>23842</td>\n",
       "    </tr>\n",
       "  </tbody>\n",
       "</table>\n",
       "</div>"
      ],
      "text/plain": [
       "   raceId  driverId  stop  lap      time duration  milliseconds\n",
       "0     841       153     1    1  17:05:23   26.898         26898\n",
       "1     841        30     1    1  17:05:52   25.021         25021\n",
       "2     841        17     1   11  17:20:48   23.426         23426\n",
       "3     841         4     1   12  17:22:34   23.251         23251\n",
       "4     841        13     1   13  17:24:10   23.842         23842"
      ]
     },
     "execution_count": 2,
     "metadata": {},
     "output_type": "execute_result"
    }
   ],
   "source": [
    "dataframe.head()"
   ]
  },
  {
   "cell_type": "code",
   "execution_count": 3,
   "metadata": {},
   "outputs": [],
   "source": []
  },
  {
   "cell_type": "code",
   "execution_count": 4,
   "metadata": {},
   "outputs": [
    {
     "data": {
      "text/html": [
       "<div>\n",
       "<style scoped>\n",
       "    .dataframe tbody tr th:only-of-type {\n",
       "        vertical-align: middle;\n",
       "    }\n",
       "\n",
       "    .dataframe tbody tr th {\n",
       "        vertical-align: top;\n",
       "    }\n",
       "\n",
       "    .dataframe thead th {\n",
       "        text-align: right;\n",
       "    }\n",
       "</style>\n",
       "<table border=\"1\" class=\"dataframe\">\n",
       "  <thead>\n",
       "    <tr style=\"text-align: right;\">\n",
       "      <th></th>\n",
       "      <th>raceId</th>\n",
       "      <th>driverId</th>\n",
       "      <th>stop</th>\n",
       "      <th>lap</th>\n",
       "      <th>time</th>\n",
       "      <th>duration</th>\n",
       "      <th>milliseconds</th>\n",
       "      <th>pit_stopId</th>\n",
       "    </tr>\n",
       "  </thead>\n",
       "  <tbody>\n",
       "    <tr>\n",
       "      <th>0</th>\n",
       "      <td>841</td>\n",
       "      <td>153</td>\n",
       "      <td>1</td>\n",
       "      <td>1</td>\n",
       "      <td>17:05:23</td>\n",
       "      <td>26.898</td>\n",
       "      <td>26898</td>\n",
       "      <td>0</td>\n",
       "    </tr>\n",
       "    <tr>\n",
       "      <th>1</th>\n",
       "      <td>841</td>\n",
       "      <td>30</td>\n",
       "      <td>1</td>\n",
       "      <td>1</td>\n",
       "      <td>17:05:52</td>\n",
       "      <td>25.021</td>\n",
       "      <td>25021</td>\n",
       "      <td>1</td>\n",
       "    </tr>\n",
       "    <tr>\n",
       "      <th>2</th>\n",
       "      <td>841</td>\n",
       "      <td>17</td>\n",
       "      <td>1</td>\n",
       "      <td>11</td>\n",
       "      <td>17:20:48</td>\n",
       "      <td>23.426</td>\n",
       "      <td>23426</td>\n",
       "      <td>2</td>\n",
       "    </tr>\n",
       "    <tr>\n",
       "      <th>3</th>\n",
       "      <td>841</td>\n",
       "      <td>4</td>\n",
       "      <td>1</td>\n",
       "      <td>12</td>\n",
       "      <td>17:22:34</td>\n",
       "      <td>23.251</td>\n",
       "      <td>23251</td>\n",
       "      <td>3</td>\n",
       "    </tr>\n",
       "    <tr>\n",
       "      <th>4</th>\n",
       "      <td>841</td>\n",
       "      <td>13</td>\n",
       "      <td>1</td>\n",
       "      <td>13</td>\n",
       "      <td>17:24:10</td>\n",
       "      <td>23.842</td>\n",
       "      <td>23842</td>\n",
       "      <td>4</td>\n",
       "    </tr>\n",
       "  </tbody>\n",
       "</table>\n",
       "</div>"
      ],
      "text/plain": [
       "   raceId  driverId  stop  lap      time duration  milliseconds  pit_stopId\n",
       "0     841       153     1    1  17:05:23   26.898         26898           0\n",
       "1     841        30     1    1  17:05:52   25.021         25021           1\n",
       "2     841        17     1   11  17:20:48   23.426         23426           2\n",
       "3     841         4     1   12  17:22:34   23.251         23251           3\n",
       "4     841        13     1   13  17:24:10   23.842         23842           4"
      ]
     },
     "execution_count": 4,
     "metadata": {},
     "output_type": "execute_result"
    }
   ],
   "source": [
    "dataframe.head()"
   ]
  },
  {
   "cell_type": "code",
   "execution_count": 5,
   "metadata": {},
   "outputs": [],
   "source": []
  },
  {
   "cell_type": "code",
   "execution_count": 6,
   "metadata": {},
   "outputs": [
    {
     "data": {
      "text/html": [
       "<div>\n",
       "<style scoped>\n",
       "    .dataframe tbody tr th:only-of-type {\n",
       "        vertical-align: middle;\n",
       "    }\n",
       "\n",
       "    .dataframe tbody tr th {\n",
       "        vertical-align: top;\n",
       "    }\n",
       "\n",
       "    .dataframe thead th {\n",
       "        text-align: right;\n",
       "    }\n",
       "</style>\n",
       "<table border=\"1\" class=\"dataframe\">\n",
       "  <thead>\n",
       "    <tr style=\"text-align: right;\">\n",
       "      <th></th>\n",
       "      <th>raceId</th>\n",
       "      <th>driverId</th>\n",
       "      <th>stop</th>\n",
       "      <th>lap</th>\n",
       "      <th>time</th>\n",
       "      <th>duration</th>\n",
       "      <th>milliseconds</th>\n",
       "      <th>pit_stopId</th>\n",
       "    </tr>\n",
       "  </thead>\n",
       "  <tbody>\n",
       "    <tr>\n",
       "      <th>0</th>\n",
       "      <td>841</td>\n",
       "      <td>153</td>\n",
       "      <td>1</td>\n",
       "      <td>1</td>\n",
       "      <td>17:05:23</td>\n",
       "      <td>26.898</td>\n",
       "      <td>26898</td>\n",
       "      <td>1</td>\n",
       "    </tr>\n",
       "    <tr>\n",
       "      <th>1</th>\n",
       "      <td>841</td>\n",
       "      <td>30</td>\n",
       "      <td>1</td>\n",
       "      <td>1</td>\n",
       "      <td>17:05:52</td>\n",
       "      <td>25.021</td>\n",
       "      <td>25021</td>\n",
       "      <td>2</td>\n",
       "    </tr>\n",
       "    <tr>\n",
       "      <th>2</th>\n",
       "      <td>841</td>\n",
       "      <td>17</td>\n",
       "      <td>1</td>\n",
       "      <td>11</td>\n",
       "      <td>17:20:48</td>\n",
       "      <td>23.426</td>\n",
       "      <td>23426</td>\n",
       "      <td>3</td>\n",
       "    </tr>\n",
       "    <tr>\n",
       "      <th>3</th>\n",
       "      <td>841</td>\n",
       "      <td>4</td>\n",
       "      <td>1</td>\n",
       "      <td>12</td>\n",
       "      <td>17:22:34</td>\n",
       "      <td>23.251</td>\n",
       "      <td>23251</td>\n",
       "      <td>4</td>\n",
       "    </tr>\n",
       "    <tr>\n",
       "      <th>4</th>\n",
       "      <td>841</td>\n",
       "      <td>13</td>\n",
       "      <td>1</td>\n",
       "      <td>13</td>\n",
       "      <td>17:24:10</td>\n",
       "      <td>23.842</td>\n",
       "      <td>23842</td>\n",
       "      <td>5</td>\n",
       "    </tr>\n",
       "  </tbody>\n",
       "</table>\n",
       "</div>"
      ],
      "text/plain": [
       "   raceId  driverId  stop  lap      time duration  milliseconds  pit_stopId\n",
       "0     841       153     1    1  17:05:23   26.898         26898           1\n",
       "1     841        30     1    1  17:05:52   25.021         25021           2\n",
       "2     841        17     1   11  17:20:48   23.426         23426           3\n",
       "3     841         4     1   12  17:22:34   23.251         23251           4\n",
       "4     841        13     1   13  17:24:10   23.842         23842           5"
      ]
     },
     "execution_count": 6,
     "metadata": {},
     "output_type": "execute_result"
    }
   ],
   "source": []
  },
  {
   "cell_type": "code",
   "execution_count": 14,
   "metadata": {},
   "outputs": [],
   "source": [
    "crear_CSVs()"
   ]
  },
  {
   "cell_type": "code",
   "execution_count": 3,
   "metadata": {},
   "outputs": [],
   "source": [
    "import pandas as pd\n",
    "dataframe = pd.read_csv(\"Datasets/circuits.csv\",encoding='UTF-8')\n",
    "dataframe.to_csv(\"Datasets/CSVs/circuits.csv\",encoding='UTF-8',index=False,sep=';')"
   ]
  },
  {
   "cell_type": "code",
   "execution_count": 2,
   "metadata": {},
   "outputs": [],
   "source": [
    "dataframe = pd.read_json(\"Datasets/constructors.json\",lines=True,encoding='UTF-8')\n",
    "dataframe.to_csv(\"Datasets/CSVs/constructors.csv\",encoding='UTF-8',index=False)"
   ]
  },
  {
   "cell_type": "code",
   "execution_count": null,
   "metadata": {},
   "outputs": [],
   "source": []
  },
  {
   "cell_type": "code",
   "execution_count": 7,
   "metadata": {},
   "outputs": [
    {
     "data": {
      "text/plain": [
       "'c:\\\\Users\\\\marco\\\\OneDrive\\\\Documentos\\\\2. DataScience\\\\TIPs y Proyectos\\\\PI01_DATA03\\\\PI01_DATA03\\\\Datasets'"
      ]
     },
     "execution_count": 7,
     "metadata": {},
     "output_type": "execute_result"
    }
   ],
   "source": [
    "import os\n",
    "os.getcwd()"
   ]
  },
  {
   "cell_type": "code",
   "execution_count": 8,
   "metadata": {},
   "outputs": [],
   "source": [
    "    import pandas as pd\n",
    "    dataframe = pd.read_json(\"constructors.json\",lines=True,encoding='UTF-8')"
   ]
  },
  {
   "cell_type": "code",
   "execution_count": null,
   "metadata": {},
   "outputs": [],
   "source": [
    "\n",
    "    dataframe.to_csv(\"../Datasets/CSVs/constructors.csv\",encoding='UTF-8',index=False)"
   ]
  },
  {
   "cell_type": "code",
   "execution_count": 1,
   "metadata": {},
   "outputs": [],
   "source": [
    "import Querys"
   ]
  },
  {
   "cell_type": "code",
   "execution_count": 2,
   "metadata": {},
   "outputs": [
    {
     "data": {
      "text/plain": [
       "'Año con mas carreras: 2021'"
      ]
     },
     "execution_count": 2,
     "metadata": {},
     "output_type": "execute_result"
    }
   ],
   "source": [
    "def Año_más_carreras():\n",
    "    return Querys.Pregunta1()\n",
    "Año_más_carreras()\n",
    "\n"
   ]
  },
  {
   "cell_type": "code",
   "execution_count": 1,
   "metadata": {},
   "outputs": [],
   "source": []
  },
  {
   "cell_type": "code",
   "execution_count": 15,
   "metadata": {},
   "outputs": [],
   "source": []
  },
  {
   "cell_type": "code",
   "execution_count": 3,
   "metadata": {},
   "outputs": [
    {
     "data": {
      "text/plain": [
       "'c:\\\\Users\\\\marco\\\\OneDrive\\\\Documentos\\\\2. DataScience\\\\TIPs y Proyectos\\\\PI01_DATA03\\\\PI01_DATA03\\\\Datasets'"
      ]
     },
     "execution_count": 3,
     "metadata": {},
     "output_type": "execute_result"
    }
   ],
   "source": []
  },
  {
   "cell_type": "code",
   "execution_count": 1,
   "metadata": {},
   "outputs": [],
   "source": [
    "import os\n",
    "#https://linuxize.com/post/python-get-change-current-working-directory/#:~:text=the%20running%20script.-,Changing%20the%20Current%20Working%20Directory%20in%20Python,use%20the%20chdir()%20method.&text=The%20method%20accepts%20one%20argument,which%20you%20want%20to%20change.\n",
    "os.getcwd()\n",
    "os.chdir(\"../PI01_DATA03/Datasets/\") \n",
    "#https://www.w3schools.com/python/trypython.asp?filename=demo_try_except\n",
    "try:\n",
    "  os.makedirs(\"CSVs\")\n",
    "except:\n",
    "  print(\"Carpeta duplicada\")\n",
    "\n"
   ]
  },
  {
   "cell_type": "code",
   "execution_count": 2,
   "metadata": {},
   "outputs": [],
   "source": [
    "import pandas as pd\n",
    "dataframe = pd.read_csv(\"../Datasets/circuits.csv\",encoding='UTF-8')\n",
    "dataframe.to_csv(\"../Datasets/CSVs/circuits.csv\",encoding='UTF-8',index=False,sep=';')"
   ]
  },
  {
   "cell_type": "code",
   "execution_count": 14,
   "metadata": {},
   "outputs": [],
   "source": [
    "import os\n",
    "os.getcwd()\n",
    "os.chdir(\"../PI01_DATA03/Datasets/\") \n",
    "os.makedirs(\"CSVs\")\n",
    "os.chdir(\"./CSVs/\")\n",
    "dataframe = pd.read_csv(\"../circuits.csv\",encoding='UTF-8')\n",
    "dataframe.to_csv(\"../CSVs/circuits.csv\",encoding='UTF-8',index=False,sep=';')"
   ]
  },
  {
   "cell_type": "code",
   "execution_count": 20,
   "metadata": {},
   "outputs": [],
   "source": []
  },
  {
   "cell_type": "code",
   "execution_count": 23,
   "metadata": {},
   "outputs": [],
   "source": []
  },
  {
   "cell_type": "code",
   "execution_count": 29,
   "metadata": {},
   "outputs": [],
   "source": [
    "import pymysql"
   ]
  },
  {
   "cell_type": "code",
   "execution_count": 27,
   "metadata": {},
   "outputs": [
    {
     "name": "stdout",
     "output_type": "stream",
     "text": [
      "['circuits', 'constructors', 'drivers', 'qualifying', 'races', 'results']\n"
     ]
    }
   ],
   "source": [
    "conexion = pymysql.connect (host='localhost', database='pidts03', user ='root', password='abcd12345')\n",
    "cursor = conexion.cursor()\n",
    "cursor.execute(\"show tables;\")\n",
    "salida = []\n",
    "for dato in cursor:\n",
    "    salida.append(dato[0])\n",
    "conexion.close()\n",
    "print(salida)\n"
   ]
  },
  {
   "cell_type": "code",
   "execution_count": 28,
   "metadata": {},
   "outputs": [],
   "source": [
    "query_ = \"select `year`  from races group by `year` order by count(`year`) desc limit 1;\""
   ]
  },
  {
   "cell_type": "code",
   "execution_count": 30,
   "metadata": {},
   "outputs": [],
   "source": [
    "def query(query_):\n",
    "    conexion = pymysql.connect (host='localhost', database='pidts03', user ='root', password='abcd12345')\n",
    "    cursor = conexion.cursor()\n",
    "    cursor.execute(query_)\n",
    "    salida = []\n",
    "    for dato in cursor:\n",
    "        salida.append(dato[0])\n",
    "    return (salida)"
   ]
  },
  {
   "cell_type": "code",
   "execution_count": null,
   "metadata": {},
   "outputs": [],
   "source": [
    "\n",
    "\n",
    "\n",
    "\n",
    "\n",
    "\n",
    "\n",
    "\n",
    "\n"
   ]
  },
  {
   "cell_type": "code",
   "execution_count": 32,
   "metadata": {},
   "outputs": [
    {
     "ename": "ProgrammingError",
     "evalue": "(1146, \"Table 'pidts03.races' doesn't exist\")",
     "output_type": "error",
     "traceback": [
      "\u001b[1;31m---------------------------------------------------------------------------\u001b[0m",
      "\u001b[1;31mProgrammingError\u001b[0m                          Traceback (most recent call last)",
      "\u001b[1;32mc:\\Users\\marco\\OneDrive\\Documentos\\2. DataScience\\TIPs y Proyectos\\PI01_DATA03\\PI01_DATA03\\prueba.ipynb Celda 25\u001b[0m in \u001b[0;36m<cell line: 1>\u001b[1;34m()\u001b[0m\n\u001b[1;32m----> <a href='vscode-notebook-cell:/c%3A/Users/marco/OneDrive/Documentos/2.%20DataScience/TIPs%20y%20Proyectos/PI01_DATA03/PI01_DATA03/prueba.ipynb#X60sZmlsZQ%3D%3D?line=0'>1</a>\u001b[0m query(query_)\n",
      "\u001b[1;32mc:\\Users\\marco\\OneDrive\\Documentos\\2. DataScience\\TIPs y Proyectos\\PI01_DATA03\\PI01_DATA03\\prueba.ipynb Celda 25\u001b[0m in \u001b[0;36mquery\u001b[1;34m(query_)\u001b[0m\n\u001b[0;32m      <a href='vscode-notebook-cell:/c%3A/Users/marco/OneDrive/Documentos/2.%20DataScience/TIPs%20y%20Proyectos/PI01_DATA03/PI01_DATA03/prueba.ipynb#X60sZmlsZQ%3D%3D?line=1'>2</a>\u001b[0m conexion \u001b[39m=\u001b[39m pymysql\u001b[39m.\u001b[39mconnect (host\u001b[39m=\u001b[39m\u001b[39m'\u001b[39m\u001b[39mlocalhost\u001b[39m\u001b[39m'\u001b[39m, database\u001b[39m=\u001b[39m\u001b[39m'\u001b[39m\u001b[39mpidts03\u001b[39m\u001b[39m'\u001b[39m, user \u001b[39m=\u001b[39m\u001b[39m'\u001b[39m\u001b[39mroot\u001b[39m\u001b[39m'\u001b[39m, password\u001b[39m=\u001b[39m\u001b[39m'\u001b[39m\u001b[39mabcd12345\u001b[39m\u001b[39m'\u001b[39m)\n\u001b[0;32m      <a href='vscode-notebook-cell:/c%3A/Users/marco/OneDrive/Documentos/2.%20DataScience/TIPs%20y%20Proyectos/PI01_DATA03/PI01_DATA03/prueba.ipynb#X60sZmlsZQ%3D%3D?line=2'>3</a>\u001b[0m cursor \u001b[39m=\u001b[39m conexion\u001b[39m.\u001b[39mcursor()\n\u001b[1;32m----> <a href='vscode-notebook-cell:/c%3A/Users/marco/OneDrive/Documentos/2.%20DataScience/TIPs%20y%20Proyectos/PI01_DATA03/PI01_DATA03/prueba.ipynb#X60sZmlsZQ%3D%3D?line=3'>4</a>\u001b[0m cursor\u001b[39m.\u001b[39;49mexecute(query_)\n\u001b[0;32m      <a href='vscode-notebook-cell:/c%3A/Users/marco/OneDrive/Documentos/2.%20DataScience/TIPs%20y%20Proyectos/PI01_DATA03/PI01_DATA03/prueba.ipynb#X60sZmlsZQ%3D%3D?line=4'>5</a>\u001b[0m salida \u001b[39m=\u001b[39m []\n\u001b[0;32m      <a href='vscode-notebook-cell:/c%3A/Users/marco/OneDrive/Documentos/2.%20DataScience/TIPs%20y%20Proyectos/PI01_DATA03/PI01_DATA03/prueba.ipynb#X60sZmlsZQ%3D%3D?line=5'>6</a>\u001b[0m \u001b[39mfor\u001b[39;00m dato \u001b[39min\u001b[39;00m cursor:\n",
      "File \u001b[1;32m~\\AppData\\Roaming\\Python\\Python310\\site-packages\\pymysql\\cursors.py:148\u001b[0m, in \u001b[0;36mCursor.execute\u001b[1;34m(self, query, args)\u001b[0m\n\u001b[0;32m    144\u001b[0m     \u001b[39mpass\u001b[39;00m\n\u001b[0;32m    146\u001b[0m query \u001b[39m=\u001b[39m \u001b[39mself\u001b[39m\u001b[39m.\u001b[39mmogrify(query, args)\n\u001b[1;32m--> 148\u001b[0m result \u001b[39m=\u001b[39m \u001b[39mself\u001b[39;49m\u001b[39m.\u001b[39;49m_query(query)\n\u001b[0;32m    149\u001b[0m \u001b[39mself\u001b[39m\u001b[39m.\u001b[39m_executed \u001b[39m=\u001b[39m query\n\u001b[0;32m    150\u001b[0m \u001b[39mreturn\u001b[39;00m result\n",
      "File \u001b[1;32m~\\AppData\\Roaming\\Python\\Python310\\site-packages\\pymysql\\cursors.py:310\u001b[0m, in \u001b[0;36mCursor._query\u001b[1;34m(self, q)\u001b[0m\n\u001b[0;32m    308\u001b[0m \u001b[39mself\u001b[39m\u001b[39m.\u001b[39m_last_executed \u001b[39m=\u001b[39m q\n\u001b[0;32m    309\u001b[0m \u001b[39mself\u001b[39m\u001b[39m.\u001b[39m_clear_result()\n\u001b[1;32m--> 310\u001b[0m conn\u001b[39m.\u001b[39;49mquery(q)\n\u001b[0;32m    311\u001b[0m \u001b[39mself\u001b[39m\u001b[39m.\u001b[39m_do_get_result()\n\u001b[0;32m    312\u001b[0m \u001b[39mreturn\u001b[39;00m \u001b[39mself\u001b[39m\u001b[39m.\u001b[39mrowcount\n",
      "File \u001b[1;32m~\\AppData\\Roaming\\Python\\Python310\\site-packages\\pymysql\\connections.py:548\u001b[0m, in \u001b[0;36mConnection.query\u001b[1;34m(self, sql, unbuffered)\u001b[0m\n\u001b[0;32m    546\u001b[0m     sql \u001b[39m=\u001b[39m sql\u001b[39m.\u001b[39mencode(\u001b[39mself\u001b[39m\u001b[39m.\u001b[39mencoding, \u001b[39m\"\u001b[39m\u001b[39msurrogateescape\u001b[39m\u001b[39m\"\u001b[39m)\n\u001b[0;32m    547\u001b[0m \u001b[39mself\u001b[39m\u001b[39m.\u001b[39m_execute_command(COMMAND\u001b[39m.\u001b[39mCOM_QUERY, sql)\n\u001b[1;32m--> 548\u001b[0m \u001b[39mself\u001b[39m\u001b[39m.\u001b[39m_affected_rows \u001b[39m=\u001b[39m \u001b[39mself\u001b[39;49m\u001b[39m.\u001b[39;49m_read_query_result(unbuffered\u001b[39m=\u001b[39;49munbuffered)\n\u001b[0;32m    549\u001b[0m \u001b[39mreturn\u001b[39;00m \u001b[39mself\u001b[39m\u001b[39m.\u001b[39m_affected_rows\n",
      "File \u001b[1;32m~\\AppData\\Roaming\\Python\\Python310\\site-packages\\pymysql\\connections.py:775\u001b[0m, in \u001b[0;36mConnection._read_query_result\u001b[1;34m(self, unbuffered)\u001b[0m\n\u001b[0;32m    773\u001b[0m \u001b[39melse\u001b[39;00m:\n\u001b[0;32m    774\u001b[0m     result \u001b[39m=\u001b[39m MySQLResult(\u001b[39mself\u001b[39m)\n\u001b[1;32m--> 775\u001b[0m     result\u001b[39m.\u001b[39;49mread()\n\u001b[0;32m    776\u001b[0m \u001b[39mself\u001b[39m\u001b[39m.\u001b[39m_result \u001b[39m=\u001b[39m result\n\u001b[0;32m    777\u001b[0m \u001b[39mif\u001b[39;00m result\u001b[39m.\u001b[39mserver_status \u001b[39mis\u001b[39;00m \u001b[39mnot\u001b[39;00m \u001b[39mNone\u001b[39;00m:\n",
      "File \u001b[1;32m~\\AppData\\Roaming\\Python\\Python310\\site-packages\\pymysql\\connections.py:1156\u001b[0m, in \u001b[0;36mMySQLResult.read\u001b[1;34m(self)\u001b[0m\n\u001b[0;32m   1154\u001b[0m \u001b[39mdef\u001b[39;00m \u001b[39mread\u001b[39m(\u001b[39mself\u001b[39m):\n\u001b[0;32m   1155\u001b[0m     \u001b[39mtry\u001b[39;00m:\n\u001b[1;32m-> 1156\u001b[0m         first_packet \u001b[39m=\u001b[39m \u001b[39mself\u001b[39;49m\u001b[39m.\u001b[39;49mconnection\u001b[39m.\u001b[39;49m_read_packet()\n\u001b[0;32m   1158\u001b[0m         \u001b[39mif\u001b[39;00m first_packet\u001b[39m.\u001b[39mis_ok_packet():\n\u001b[0;32m   1159\u001b[0m             \u001b[39mself\u001b[39m\u001b[39m.\u001b[39m_read_ok_packet(first_packet)\n",
      "File \u001b[1;32m~\\AppData\\Roaming\\Python\\Python310\\site-packages\\pymysql\\connections.py:725\u001b[0m, in \u001b[0;36mConnection._read_packet\u001b[1;34m(self, packet_type)\u001b[0m\n\u001b[0;32m    723\u001b[0m     \u001b[39mif\u001b[39;00m \u001b[39mself\u001b[39m\u001b[39m.\u001b[39m_result \u001b[39mis\u001b[39;00m \u001b[39mnot\u001b[39;00m \u001b[39mNone\u001b[39;00m \u001b[39mand\u001b[39;00m \u001b[39mself\u001b[39m\u001b[39m.\u001b[39m_result\u001b[39m.\u001b[39munbuffered_active \u001b[39mis\u001b[39;00m \u001b[39mTrue\u001b[39;00m:\n\u001b[0;32m    724\u001b[0m         \u001b[39mself\u001b[39m\u001b[39m.\u001b[39m_result\u001b[39m.\u001b[39munbuffered_active \u001b[39m=\u001b[39m \u001b[39mFalse\u001b[39;00m\n\u001b[1;32m--> 725\u001b[0m     packet\u001b[39m.\u001b[39;49mraise_for_error()\n\u001b[0;32m    726\u001b[0m \u001b[39mreturn\u001b[39;00m packet\n",
      "File \u001b[1;32m~\\AppData\\Roaming\\Python\\Python310\\site-packages\\pymysql\\protocol.py:221\u001b[0m, in \u001b[0;36mMysqlPacket.raise_for_error\u001b[1;34m(self)\u001b[0m\n\u001b[0;32m    219\u001b[0m \u001b[39mif\u001b[39;00m DEBUG:\n\u001b[0;32m    220\u001b[0m     \u001b[39mprint\u001b[39m(\u001b[39m\"\u001b[39m\u001b[39merrno =\u001b[39m\u001b[39m\"\u001b[39m, errno)\n\u001b[1;32m--> 221\u001b[0m err\u001b[39m.\u001b[39;49mraise_mysql_exception(\u001b[39mself\u001b[39;49m\u001b[39m.\u001b[39;49m_data)\n",
      "File \u001b[1;32m~\\AppData\\Roaming\\Python\\Python310\\site-packages\\pymysql\\err.py:143\u001b[0m, in \u001b[0;36mraise_mysql_exception\u001b[1;34m(data)\u001b[0m\n\u001b[0;32m    141\u001b[0m \u001b[39mif\u001b[39;00m errorclass \u001b[39mis\u001b[39;00m \u001b[39mNone\u001b[39;00m:\n\u001b[0;32m    142\u001b[0m     errorclass \u001b[39m=\u001b[39m InternalError \u001b[39mif\u001b[39;00m errno \u001b[39m<\u001b[39m \u001b[39m1000\u001b[39m \u001b[39melse\u001b[39;00m OperationalError\n\u001b[1;32m--> 143\u001b[0m \u001b[39mraise\u001b[39;00m errorclass(errno, errval)\n",
      "\u001b[1;31mProgrammingError\u001b[0m: (1146, \"Table 'pidts03.races' doesn't exist\")"
     ]
    }
   ],
   "source": [
    "query(query_)"
   ]
  },
  {
   "cell_type": "code",
   "execution_count": 62,
   "metadata": {},
   "outputs": [
    {
     "name": "stdout",
     "output_type": "stream",
     "text": [
      "Piloto con mayor cantidad de primeros puestos: Lewis Hamilton\n"
     ]
    }
   ],
   "source": [
    "conexion = pymysql.connect (host='localhost', database='pidts03', user ='root', password='abcd12345')\n",
    "cursor = conexion.cursor()\n",
    "cursor.execute(\" SELECT drivers.driverId, count(qualifying.position) as Cantidad_primeros_puestos, drivers.forename as Nombre, drivers.surname as Apellido FROM qualifying JOIN drivers ON qualifying.driverId = drivers.driverId WHERE position = 1 GROUP BY driverId ORDER BY Cantidad_primeros_puestos DESC LIMIT 1;\")\n",
    "for dato in cursor:\n",
    "    pass\n",
    "conexion.close()\n",
    "print (\"Piloto con mayor cantidad de primeros puestos:\", dato[2],dato[3])"
   ]
  },
  {
   "cell_type": "code",
   "execution_count": 63,
   "metadata": {},
   "outputs": [
    {
     "name": "stdout",
     "output_type": "stream",
     "text": [
      "Nombre del circuito más corrido: Autodromo Nazionale di Monza\n"
     ]
    }
   ],
   "source": [
    "conexion = pymysql.connect (host='localhost', database='pidts03', user ='root', password='abcd12345')\n",
    "cursor = conexion.cursor()\n",
    "cursor.execute(\" SELECT count(r.circuitId) as CantidadCarreras, c.name FROM races r JOIN circuits c ON (r.circuitId = c.circuitId) GROUP BY r.circuitId ORDER BY CantidadCarreras DESC LIMIT 1;;\")\n",
    "for dato in cursor:\n",
    "    pass\n",
    "conexion.close()\n",
    "print (\"Nombre del circuito más corrido:\", dato[1])"
   ]
  },
  {
   "cell_type": "code",
   "execution_count": 64,
   "metadata": {},
   "outputs": [
    {
     "name": "stdout",
     "output_type": "stream",
     "text": [
      "Piloto con mayor cantidad de puntos (constructor American o British): Jenson Button\n"
     ]
    }
   ],
   "source": [
    "conexion = pymysql.connect (host='localhost', database='pidts03', user ='root', password='abcd12345')\n",
    "cursor = conexion.cursor()\n",
    "cursor.execute(\" SELECT sum(r.points) as Puntaje_total, c.nationality as Nacionalidad_del_constructor, c.name as Nombre, d.forename as Nombre, d.surname as Apellido FROM results r JOIN constructors c ON (r.constructorId = c.constructorId) JOIN drivers d ON (r.driverId = d.driverId) WHERE c.nationality = 'British' OR c.nationality = 'American' GROUP BY r.driverId ORDER BY Puntaje_total DESC LIMIT 1;\")\n",
    "for dato in cursor:\n",
    "    pass\n",
    "conexion.close()\n",
    "print (\"Piloto con mayor cantidad de puntos (constructor American o British):\", dato[3],dato[4])"
   ]
  },
  {
   "cell_type": "code",
   "execution_count": 65,
   "metadata": {},
   "outputs": [],
   "source": [
    "from fastapi import FastAPI\n",
    "\n",
    "app = FastAPI()\n"
   ]
  },
  {
   "cell_type": "code",
   "execution_count": 66,
   "metadata": {},
   "outputs": [],
   "source": [
    "def Pregunta1():\n",
    "    conexion = pymysql.connect (host='localhost', database='pidts03', user ='root', password='abcd12345')\n",
    "    cursor = conexion.cursor()\n",
    "    cursor.execute(\"select `year`, count(`year`) as Numero_carreras from races group by `year` order by Numero_carreras desc limit 1;\")\n",
    "    for dato in cursor:\n",
    "        pass\n",
    "    conexion.close()\n",
    "    return(\"Anio con mas carreras: \"+str(dato[0]))"
   ]
  },
  {
   "cell_type": "code",
   "execution_count": 67,
   "metadata": {},
   "outputs": [
    {
     "data": {
      "text/plain": [
       "'Anio con mas carreras: 2021'"
      ]
     },
     "execution_count": 67,
     "metadata": {},
     "output_type": "execute_result"
    }
   ],
   "source": [
    "Pregunta1()"
   ]
  },
  {
   "cell_type": "code",
   "execution_count": 68,
   "metadata": {},
   "outputs": [],
   "source": [
    "def Pregunta2():\n",
    "    conexion = pymysql.connect (host='localhost', database='pidts03', user ='root', password='abcd12345')\n",
    "    cursor = conexion.cursor()\n",
    "    cursor.execute(\" SELECT drivers.driverId, count(qualifying.position) as Cantidad_primeros_puestos, drivers.forename as Nombre, drivers.surname as Apellido FROM qualifying JOIN drivers ON qualifying.driverId = drivers.driverId WHERE position = 1 GROUP BY driverId ORDER BY Cantidad_primeros_puestos DESC LIMIT 1;\")\n",
    "    for dato in cursor:\n",
    "        pass\n",
    "    conexion.close()\n",
    "    return(\"Piloto con mayor cantidad de primeros puestos:\"+ dato[2]+' '+dato[3])"
   ]
  },
  {
   "cell_type": "code",
   "execution_count": 69,
   "metadata": {},
   "outputs": [
    {
     "data": {
      "text/plain": [
       "'Piloto con mayor cantidad de primeros puestos:Lewis Hamilton'"
      ]
     },
     "execution_count": 69,
     "metadata": {},
     "output_type": "execute_result"
    }
   ],
   "source": [
    "Pregunta2()"
   ]
  },
  {
   "cell_type": "code",
   "execution_count": 70,
   "metadata": {},
   "outputs": [],
   "source": [
    "def Pregunta3():\n",
    "    conexion = pymysql.connect (host='localhost', database='pidts03', user ='root', password='abcd12345')\n",
    "    cursor = conexion.cursor()\n",
    "    cursor.execute(\" SELECT count(r.circuitId) as CantidadCarreras, c.name FROM races r JOIN circuits c ON (r.circuitId = c.circuitId) GROUP BY r.circuitId ORDER BY CantidadCarreras DESC LIMIT 1;;\")\n",
    "    for dato in cursor:\n",
    "        pass\n",
    "    conexion.close()\n",
    "    return(\"Nombre del circuito más corrido:\"+' '+ dato[1])"
   ]
  },
  {
   "cell_type": "code",
   "execution_count": 71,
   "metadata": {},
   "outputs": [
    {
     "data": {
      "text/plain": [
       "'Nombre del circuito más corrido: Autodromo Nazionale di Monza'"
      ]
     },
     "execution_count": 71,
     "metadata": {},
     "output_type": "execute_result"
    }
   ],
   "source": [
    "Pregunta3()"
   ]
  },
  {
   "cell_type": "code",
   "execution_count": 72,
   "metadata": {},
   "outputs": [],
   "source": [
    "def Pregunta4():\n",
    "    conexion = pymysql.connect (host='localhost', database='pidts03', user ='root', password='abcd12345')\n",
    "    cursor = conexion.cursor()\n",
    "    cursor.execute(\" SELECT sum(r.points) as Puntaje_total, c.nationality as Nacionalidad_del_constructor, c.name as Nombre, d.forename as Nombre, d.surname as Apellido FROM results r JOIN constructors c ON (r.constructorId = c.constructorId) JOIN drivers d ON (r.driverId = d.driverId) WHERE c.nationality = 'British' OR c.nationality = 'American' GROUP BY r.driverId ORDER BY Puntaje_total DESC LIMIT 1;\")\n",
    "    for dato in cursor:\n",
    "        pass\n",
    "    conexion.close()\n",
    "    return(\"Piloto con mayor cantidad de puntos (constructor American o British):\"+ str(dato[3])+' '+str(dato[4]))"
   ]
  },
  {
   "cell_type": "code",
   "execution_count": 73,
   "metadata": {},
   "outputs": [
    {
     "data": {
      "text/plain": [
       "'Piloto con mayor cantidad de puntos (constructor American o British):Jenson Button'"
      ]
     },
     "execution_count": 73,
     "metadata": {},
     "output_type": "execute_result"
    }
   ],
   "source": [
    "Pregunta4()"
   ]
  },
  {
   "cell_type": "code",
   "execution_count": 74,
   "metadata": {},
   "outputs": [],
   "source": [
    "@app.get(\"/Pregunta1\")\n",
    "def read_root():\n",
    "    return Pregunta1()"
   ]
  },
  {
   "cell_type": "code",
   "execution_count": 75,
   "metadata": {},
   "outputs": [],
   "source": [
    "@app.get(\"/Pregunta2\")\n",
    "def read_root():\n",
    "    return Pregunta2()"
   ]
  },
  {
   "cell_type": "code",
   "execution_count": 76,
   "metadata": {},
   "outputs": [],
   "source": [
    "@app.get(\"/Pregunta3\")\n",
    "def read_root():\n",
    "    return Pregunta3()"
   ]
  },
  {
   "cell_type": "code",
   "execution_count": 77,
   "metadata": {},
   "outputs": [],
   "source": [
    "@app.get(\"/Pregunta4\")\n",
    "def read_root():\n",
    "    return Pregunta4()"
   ]
  },
  {
   "cell_type": "code",
   "execution_count": null,
   "metadata": {},
   "outputs": [],
   "source": [
    "@app.get(\"/items/{item_id}\")\n",
    "def read_item(item_id: int, q: Union[str, None] = None):\n",
    "    return {\"item_id\": item_id, \"q\": q}"
   ]
  }
 ],
 "metadata": {
  "kernelspec": {
   "display_name": "Python 3.10.6 64-bit",
   "language": "python",
   "name": "python3"
  },
  "language_info": {
   "codemirror_mode": {
    "name": "ipython",
    "version": 3
   },
   "file_extension": ".py",
   "mimetype": "text/x-python",
   "name": "python",
   "nbconvert_exporter": "python",
   "pygments_lexer": "ipython3",
   "version": "3.10.6"
  },
  "orig_nbformat": 4,
  "vscode": {
   "interpreter": {
    "hash": "26de051ba29f2982a8de78e945f0abaf191376122a1563185a90213a26c5da77"
   }
  }
 },
 "nbformat": 4,
 "nbformat_minor": 2
}
